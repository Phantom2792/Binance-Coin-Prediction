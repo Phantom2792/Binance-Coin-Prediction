{
 "cells": [
  {
   "cell_type": "markdown",
   "metadata": {
    "id": "axg0kbltc1bj"
   },
   "source": [
    "# Binance Coin Price Prediction"
   ]
  },
  {
   "cell_type": "code",
   "execution_count": 1,
   "metadata": {
    "id": "nS2qUtM1Qyil"
   },
   "outputs": [],
   "source": [
    "import pandas as pd"
   ]
  },
  {
   "cell_type": "code",
   "execution_count": 7,
   "metadata": {
    "colab": {
     "base_uri": "https://localhost:8080/",
     "height": 72,
     "resources": {
      "http://localhost:8080/nbextensions/google.colab/files.js": {
       "data": "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",
       "headers": [
        [
         "content-type",
         "application/javascript"
        ]
       ],
       "ok": true,
       "status": 200,
       "status_text": ""
      }
     }
    },
    "id": "5reIzV4WQyio",
    "outputId": "2f8ae293-4af9-46eb-c02c-35fb4ffa90e1"
   },
   "outputs": [
    {
     "data": {
      "text/html": [
       "\n",
       "     <input type=\"file\" id=\"files-e96dc86e-610c-45a4-8bd7-8fc502919c78\" name=\"files[]\" multiple disabled\n",
       "        style=\"border:none\" />\n",
       "     <output id=\"result-e96dc86e-610c-45a4-8bd7-8fc502919c78\">\n",
       "      Upload widget is only available when the cell has been executed in the\n",
       "      current browser session. Please rerun this cell to enable.\n",
       "      </output>\n",
       "      <script src=\"/nbextensions/google.colab/files.js\"></script> "
      ],
      "text/plain": [
       "<IPython.core.display.HTML object>"
      ]
     },
     "metadata": {},
     "output_type": "display_data"
    },
    {
     "name": "stdout",
     "output_type": "stream",
     "text": [
      "Saving Binance.csv to Binance (1).csv\n"
     ]
    }
   ],
   "source": [
    "from google.colab import files\n",
    "import io\n",
    "\n",
    "uploaded = files.upload()\n",
    "df = pd.read_csv(io.BytesIO(uploaded['Binance.csv']))"
   ]
  },
  {
   "cell_type": "code",
   "execution_count": 9,
   "metadata": {
    "colab": {
     "base_uri": "https://localhost:8080/",
     "height": 204
    },
    "id": "kbyKbi94Qyir",
    "outputId": "57b0ef41-eec4-4fb6-9379-b9f49da117a5"
   },
   "outputs": [
    {
     "data": {
      "text/html": [
       "<div>\n",
       "<style scoped>\n",
       "    .dataframe tbody tr th:only-of-type {\n",
       "        vertical-align: middle;\n",
       "    }\n",
       "\n",
       "    .dataframe tbody tr th {\n",
       "        vertical-align: top;\n",
       "    }\n",
       "\n",
       "    .dataframe thead th {\n",
       "        text-align: right;\n",
       "    }\n",
       "</style>\n",
       "<table border=\"1\" class=\"dataframe\">\n",
       "  <thead>\n",
       "    <tr style=\"text-align: right;\">\n",
       "      <th></th>\n",
       "      <th>Date</th>\n",
       "      <th>Price(in dollars)</th>\n",
       "      <th>Open</th>\n",
       "      <th>High</th>\n",
       "      <th>Low</th>\n",
       "      <th>Vol.</th>\n",
       "      <th>Change%</th>\n",
       "    </tr>\n",
       "  </thead>\n",
       "  <tbody>\n",
       "    <tr>\n",
       "      <th>0</th>\n",
       "      <td>Jul 27, 2021</td>\n",
       "      <td>303.29</td>\n",
       "      <td>304.31</td>\n",
       "      <td>307.62</td>\n",
       "      <td>298.53</td>\n",
       "      <td>2.26M</td>\n",
       "      <td>-0.33</td>\n",
       "    </tr>\n",
       "    <tr>\n",
       "      <th>1</th>\n",
       "      <td>Jul 26, 2021</td>\n",
       "      <td>304.31</td>\n",
       "      <td>302.60</td>\n",
       "      <td>327.62</td>\n",
       "      <td>301.19</td>\n",
       "      <td>2.86M</td>\n",
       "      <td>0.58</td>\n",
       "    </tr>\n",
       "    <tr>\n",
       "      <th>2</th>\n",
       "      <td>Jul 25, 2021</td>\n",
       "      <td>302.57</td>\n",
       "      <td>302.55</td>\n",
       "      <td>303.09</td>\n",
       "      <td>292.85</td>\n",
       "      <td>1.25M</td>\n",
       "      <td>-0.19</td>\n",
       "    </tr>\n",
       "    <tr>\n",
       "      <th>3</th>\n",
       "      <td>Jul 24, 2021</td>\n",
       "      <td>303.15</td>\n",
       "      <td>298.91</td>\n",
       "      <td>305.01</td>\n",
       "      <td>296.16</td>\n",
       "      <td>1.81M</td>\n",
       "      <td>1.42</td>\n",
       "    </tr>\n",
       "    <tr>\n",
       "      <th>4</th>\n",
       "      <td>Jul 23, 2021</td>\n",
       "      <td>298.89</td>\n",
       "      <td>293.51</td>\n",
       "      <td>301.15</td>\n",
       "      <td>281.68</td>\n",
       "      <td>1.98M</td>\n",
       "      <td>1.83</td>\n",
       "    </tr>\n",
       "  </tbody>\n",
       "</table>\n",
       "</div>"
      ],
      "text/plain": [
       "           Date  Price(in dollars)    Open    High     Low   Vol.  Change%\n",
       "0  Jul 27, 2021             303.29  304.31  307.62  298.53  2.26M    -0.33\n",
       "1  Jul 26, 2021             304.31  302.60  327.62  301.19  2.86M     0.58\n",
       "2  Jul 25, 2021             302.57  302.55  303.09  292.85  1.25M    -0.19\n",
       "3  Jul 24, 2021             303.15  298.91  305.01  296.16  1.81M     1.42\n",
       "4  Jul 23, 2021             298.89  293.51  301.15  281.68  1.98M     1.83"
      ]
     },
     "execution_count": 9,
     "metadata": {},
     "output_type": "execute_result"
    }
   ],
   "source": [
    "df.head()"
   ]
  },
  {
   "cell_type": "code",
   "execution_count": 10,
   "metadata": {
    "colab": {
     "base_uri": "https://localhost:8080/",
     "height": 204
    },
    "id": "EV_hXjuxQyix",
    "outputId": "5e72ab59-3e84-49a2-f7ac-424bd85293fc"
   },
   "outputs": [
    {
     "data": {
      "text/html": [
       "<div>\n",
       "<style scoped>\n",
       "    .dataframe tbody tr th:only-of-type {\n",
       "        vertical-align: middle;\n",
       "    }\n",
       "\n",
       "    .dataframe tbody tr th {\n",
       "        vertical-align: top;\n",
       "    }\n",
       "\n",
       "    .dataframe thead th {\n",
       "        text-align: right;\n",
       "    }\n",
       "</style>\n",
       "<table border=\"1\" class=\"dataframe\">\n",
       "  <thead>\n",
       "    <tr style=\"text-align: right;\">\n",
       "      <th></th>\n",
       "      <th>Date</th>\n",
       "      <th>Price(in dollars)</th>\n",
       "      <th>Open</th>\n",
       "      <th>High</th>\n",
       "      <th>Low</th>\n",
       "      <th>Vol.</th>\n",
       "      <th>Change%</th>\n",
       "    </tr>\n",
       "  </thead>\n",
       "  <tbody>\n",
       "    <tr>\n",
       "      <th>1352</th>\n",
       "      <td>Nov 13, 2017</td>\n",
       "      <td>1.68</td>\n",
       "      <td>1.49</td>\n",
       "      <td>1.74</td>\n",
       "      <td>1.49</td>\n",
       "      <td>166.01K</td>\n",
       "      <td>12.75</td>\n",
       "    </tr>\n",
       "    <tr>\n",
       "      <th>1353</th>\n",
       "      <td>Nov 12, 2017</td>\n",
       "      <td>1.49</td>\n",
       "      <td>1.66</td>\n",
       "      <td>1.70</td>\n",
       "      <td>1.34</td>\n",
       "      <td>456.48K</td>\n",
       "      <td>-10.24</td>\n",
       "    </tr>\n",
       "    <tr>\n",
       "      <th>1354</th>\n",
       "      <td>Nov 11, 2017</td>\n",
       "      <td>1.66</td>\n",
       "      <td>1.71</td>\n",
       "      <td>1.93</td>\n",
       "      <td>1.58</td>\n",
       "      <td>256.71K</td>\n",
       "      <td>-2.92</td>\n",
       "    </tr>\n",
       "    <tr>\n",
       "      <th>1355</th>\n",
       "      <td>Nov 10, 2017</td>\n",
       "      <td>1.71</td>\n",
       "      <td>1.99</td>\n",
       "      <td>2.02</td>\n",
       "      <td>1.60</td>\n",
       "      <td>483.23K</td>\n",
       "      <td>-14.07</td>\n",
       "    </tr>\n",
       "    <tr>\n",
       "      <th>1356</th>\n",
       "      <td>Nov 09, 2017</td>\n",
       "      <td>1.99</td>\n",
       "      <td>1.99</td>\n",
       "      <td>2.20</td>\n",
       "      <td>1.90</td>\n",
       "      <td>283.35K</td>\n",
       "      <td>0.00</td>\n",
       "    </tr>\n",
       "  </tbody>\n",
       "</table>\n",
       "</div>"
      ],
      "text/plain": [
       "              Date  Price(in dollars)  Open  High   Low     Vol.  Change%\n",
       "1352  Nov 13, 2017               1.68  1.49  1.74  1.49  166.01K    12.75\n",
       "1353  Nov 12, 2017               1.49  1.66  1.70  1.34  456.48K   -10.24\n",
       "1354  Nov 11, 2017               1.66  1.71  1.93  1.58  256.71K    -2.92\n",
       "1355  Nov 10, 2017               1.71  1.99  2.02  1.60  483.23K   -14.07\n",
       "1356  Nov 09, 2017               1.99  1.99  2.20  1.90  283.35K     0.00"
      ]
     },
     "execution_count": 10,
     "metadata": {},
     "output_type": "execute_result"
    }
   ],
   "source": [
    "df.tail()"
   ]
  },
  {
   "cell_type": "code",
   "execution_count": 12,
   "metadata": {
    "id": "AlSt66b0Qyi1"
   },
   "outputs": [],
   "source": [
    "df1=df.reset_index()['Price(in dollars)']"
   ]
  },
  {
   "cell_type": "code",
   "execution_count": null,
   "metadata": {
    "id": "DV_DkclFQyi6",
    "outputId": "f5fffacf-742c-4c40-c8a5-30656bb39ec3"
   },
   "outputs": [
    {
     "data": {
      "text/plain": [
       "0       132.045\n",
       "1       131.780\n",
       "2       130.280\n",
       "3       130.535\n",
       "4       129.960\n",
       "         ...   \n",
       "1253    314.960\n",
       "1254    313.140\n",
       "1255    319.230\n",
       "1256    316.850\n",
       "1257    318.890\n",
       "Name: close, Length: 1258, dtype: float64"
      ]
     },
     "execution_count": 412,
     "metadata": {},
     "output_type": "execute_result"
    }
   ],
   "source": [
    "df1"
   ]
  },
  {
   "cell_type": "code",
   "execution_count": 13,
   "metadata": {
    "colab": {
     "base_uri": "https://localhost:8080/",
     "height": 283
    },
    "id": "fugs1QKJQyi9",
    "outputId": "8c13194c-4e7e-4506-c31d-6d3bdce9f889"
   },
   "outputs": [
    {
     "data": {
      "text/plain": [
       "[<matplotlib.lines.Line2D at 0x7f8c790e4b90>]"
      ]
     },
     "execution_count": 13,
     "metadata": {},
     "output_type": "execute_result"
    },
    {
     "data": {
      "image/png": "[encoded data removed]",
      "text/plain": [
       "<Figure size 432x288 with 1 Axes>"
      ]
     },
     "metadata": {
      "needs_background": "light"
     },
     "output_type": "display_data"
    }
   ],
   "source": [
    "import matplotlib.pyplot as plt\n",
    "plt.plot(df1)"
   ]
  },
  {
   "cell_type": "code",
   "execution_count": null,
   "metadata": {
    "id": "tJfspwNOQyi_"
   },
   "outputs": [],
   "source": [
    "### LSTM are sensitive to the scale of the data. so we apply MinMax scaler "
   ]
  },
  {
   "cell_type": "code",
   "execution_count": 14,
   "metadata": {
    "id": "kuI7JfKyQyjB"
   },
   "outputs": [],
   "source": [
    "import numpy as np"
   ]
  },
  {
   "cell_type": "code",
   "execution_count": 15,
   "metadata": {
    "colab": {
     "base_uri": "https://localhost:8080/"
    },
    "id": "sT-j8jmHQyjC",
    "outputId": "8ba2b386-1ce2-4304-a311-0f76a2a92493"
   },
   "outputs": [
    {
     "data": {
      "text/plain": [
       "0       303.29\n",
       "1       304.31\n",
       "2       302.57\n",
       "3       303.15\n",
       "4       298.89\n",
       "         ...  \n",
       "1352      1.68\n",
       "1353      1.49\n",
       "1354      1.66\n",
       "1355      1.71\n",
       "1356      1.99\n",
       "Name: Price(in dollars), Length: 1357, dtype: float64"
      ]
     },
     "execution_count": 15,
     "metadata": {},
     "output_type": "execute_result"
    }
   ],
   "source": [
    "df1"
   ]
  },
  {
   "cell_type": "code",
   "execution_count": 16,
   "metadata": {
    "id": "vDtx29elQyjE"
   },
   "outputs": [],
   "source": [
    "from sklearn.preprocessing import MinMaxScaler\n",
    "scaler=MinMaxScaler(feature_range=(0,1))\n",
    "df1=scaler.fit_transform(np.array(df1).reshape(-1,1))"
   ]
  },
  {
   "cell_type": "code",
   "execution_count": 17,
   "metadata": {
    "colab": {
     "base_uri": "https://localhost:8080/"
    },
    "id": "NxSR8nV6QyjF",
    "outputId": "b0f2a170-5d84-47a5-a0ad-b58794d0e16b"
   },
   "outputs": [
    {
     "name": "stdout",
     "output_type": "stream",
     "text": [
      "[[4.47064749e-01]\n",
      " [4.48575703e-01]\n",
      " [4.45998193e-01]\n",
      " ...\n",
      " [2.51825737e-04]\n",
      " [3.25892130e-04]\n",
      " [7.40663931e-04]]\n"
     ]
    }
   ],
   "source": [
    "print(df1)"
   ]
  },
  {
   "cell_type": "code",
   "execution_count": 18,
   "metadata": {
    "id": "7Hk7Zi87QyjH"
   },
   "outputs": [],
   "source": [
    "##splitting dataset into train and test split\n",
    "training_size=int(len(df1)*0.65)\n",
    "test_size=len(df1)-training_size\n",
    "train_data,test_data=df1[0:training_size,:],df1[training_size:len(df1),:1]"
   ]
  },
  {
   "cell_type": "code",
   "execution_count": 19,
   "metadata": {
    "colab": {
     "base_uri": "https://localhost:8080/"
    },
    "id": "YR-ep0ZkQyjI",
    "outputId": "9b0d76d2-c10f-46f1-d2ed-b62d848a9930"
   },
   "outputs": [
    {
     "data": {
      "text/plain": [
       "(882, 475)"
      ]
     },
     "execution_count": 19,
     "metadata": {},
     "output_type": "execute_result"
    }
   ],
   "source": [
    "training_size,test_size"
   ]
  },
  {
   "cell_type": "code",
   "execution_count": 20,
   "metadata": {
    "colab": {
     "base_uri": "https://localhost:8080/"
    },
    "id": "IdhogS9kQyjK",
    "outputId": "590758fb-c554-4abd-86e4-d6c70493eb27"
   },
   "outputs": [
    {
     "data": {
      "text/plain": [
       "array([[0.44706475],\n",
       "       [0.4485757 ],\n",
       "       [0.44599819],\n",
       "       [0.44685736],\n",
       "       [0.44054691],\n",
       "       [0.43260699],\n",
       "       [0.43194039],\n",
       "       [0.38973736],\n",
       "       [0.41326085],\n",
       "       [0.44542047],\n",
       "       [0.44265039],\n",
       "       [0.44639815],\n",
       "       [0.46527027],\n",
       "       [0.45618973],\n",
       "       [0.4554935 ],\n",
       "       [0.46614425],\n",
       "       [0.47460263],\n",
       "       [0.46599612],\n",
       "       [0.46703305],\n",
       "       [0.45777475],\n",
       "       [0.48319434],\n",
       "       [0.47184736],\n",
       "       [0.44561305],\n",
       "       [0.45386404],\n",
       "       [0.44108018],\n",
       "       [0.42349682],\n",
       "       [0.42386715],\n",
       "       [0.4470055 ],\n",
       "       [0.44201342],\n",
       "       [0.42712608],\n",
       "       [0.42865184],\n",
       "       [0.41174989],\n",
       "       [0.41423852],\n",
       "       [0.45450101],\n",
       "       [0.43647325],\n",
       "       [0.38508599],\n",
       "       [0.40041773],\n",
       "       [0.50065919],\n",
       "       [0.49283778],\n",
       "       [0.49651147],\n",
       "       [0.52016828],\n",
       "       [0.51203579],\n",
       "       [0.54111425],\n",
       "       [0.54597301],\n",
       "       [0.53970699],\n",
       "       [0.50622898],\n",
       "       [0.50953234],\n",
       "       [0.51837587],\n",
       "       [0.55372035],\n",
       "       [0.52016828],\n",
       "       [0.5282267 ],\n",
       "       [0.58025094],\n",
       "       [0.57564401],\n",
       "       [0.57694758],\n",
       "       [0.6311938 ],\n",
       "       [0.59198305],\n",
       "       [0.53461123],\n",
       "       [0.52179774],\n",
       "       [0.48009836],\n",
       "       [0.4492423 ],\n",
       "       [0.4856089 ],\n",
       "       [0.54212156],\n",
       "       [0.55954197],\n",
       "       [0.5070289 ],\n",
       "       [0.50888056],\n",
       "       [0.38526375],\n",
       "       [0.44108018],\n",
       "       [0.48135749],\n",
       "       [0.57942139],\n",
       "       [0.49421541],\n",
       "       [0.75072215],\n",
       "       [0.75587717],\n",
       "       [0.83238775],\n",
       "       [0.83155821],\n",
       "       [0.89023361],\n",
       "       [0.84475684],\n",
       "       [0.86525842],\n",
       "       [0.99363029],\n",
       "       [0.93351801],\n",
       "       [0.9779134 ],\n",
       "       [0.95499726],\n",
       "       [0.92217103],\n",
       "       [0.93588813],\n",
       "       [0.96212245],\n",
       "       [0.91615684],\n",
       "       [1.        ],\n",
       "       [0.91910469],\n",
       "       [0.91597908],\n",
       "       [0.92114892],\n",
       "       [0.88715244],\n",
       "       [0.83102493],\n",
       "       [0.84037211],\n",
       "       [0.79064393],\n",
       "       [0.74481165],\n",
       "       [0.73475343],\n",
       "       [0.77780082],\n",
       "       [0.74710771],\n",
       "       [0.8026575 ],\n",
       "       [0.86807294],\n",
       "       [0.74433762],\n",
       "       [0.71093368],\n",
       "       [0.76086924],\n",
       "       [0.75138874],\n",
       "       [0.80113173],\n",
       "       [0.81194543],\n",
       "       [0.81267128],\n",
       "       [0.88454531],\n",
       "       [0.77628987],\n",
       "       [0.6973499 ],\n",
       "       [0.66957501],\n",
       "       [0.61655828],\n",
       "       [0.55398699],\n",
       "       [0.59430874],\n",
       "       [0.54204749],\n",
       "       [0.51532434],\n",
       "       [0.47408417],\n",
       "       [0.49885197],\n",
       "       [0.49304517],\n",
       "       [0.44542047],\n",
       "       [0.45909313],\n",
       "       [0.40533574],\n",
       "       [0.39607744],\n",
       "       [0.39674404],\n",
       "       [0.37551661],\n",
       "       [0.34479387],\n",
       "       [0.36603611],\n",
       "       [0.3761684 ],\n",
       "       [0.37557587],\n",
       "       [0.38995956],\n",
       "       [0.38901151],\n",
       "       [0.38760425],\n",
       "       [0.38455271],\n",
       "       [0.39754396],\n",
       "       [0.38039018],\n",
       "       [0.37437599],\n",
       "       [0.38923371],\n",
       "       [0.40647637],\n",
       "       [0.38800421],\n",
       "       [0.42748159],\n",
       "       [0.40982417],\n",
       "       [0.43180707],\n",
       "       [0.35418549],\n",
       "       [0.35334113],\n",
       "       [0.33295806],\n",
       "       [0.33202483],\n",
       "       [0.33805383],\n",
       "       [0.35457064],\n",
       "       [0.35251159],\n",
       "       [0.37511665],\n",
       "       [0.30893093],\n",
       "       [0.33119528],\n",
       "       [0.32676611],\n",
       "       [0.34397914],\n",
       "       [0.37443524],\n",
       "       [0.34104611],\n",
       "       [0.39394433],\n",
       "       [0.43294769],\n",
       "       [0.37458338],\n",
       "       [0.49068985],\n",
       "       [0.28774794],\n",
       "       [0.24277482],\n",
       "       [0.19049876],\n",
       "       [0.19033582],\n",
       "       [0.19922378],\n",
       "       [0.19491312],\n",
       "       [0.2000237 ],\n",
       "       [0.18152192],\n",
       "       [0.18846934],\n",
       "       [0.1571837 ],\n",
       "       [0.11586947],\n",
       "       [0.09911565],\n",
       "       [0.1053076 ],\n",
       "       [0.09815278],\n",
       "       [0.08024353],\n",
       "       [0.07501444],\n",
       "       [0.07332573],\n",
       "       [0.0739627 ],\n",
       "       [0.06337121],\n",
       "       [0.06409706],\n",
       "       [0.06129735],\n",
       "       [0.06070482],\n",
       "       [0.05851245],\n",
       "       [0.05962345],\n",
       "       [0.0596827 ],\n",
       "       [0.05974195],\n",
       "       [0.05840876],\n",
       "       [0.05833469],\n",
       "       [0.05509058],\n",
       "       [0.06085295],\n",
       "       [0.06092701],\n",
       "       [0.06497104],\n",
       "       [0.06560801],\n",
       "       [0.06163805],\n",
       "       [0.05839394],\n",
       "       [0.05983083],\n",
       "       [0.0572237 ],\n",
       "       [0.05445361],\n",
       "       [0.05446843],\n",
       "       [0.06064556],\n",
       "       [0.06271942],\n",
       "       [0.06049743],\n",
       "       [0.06243797],\n",
       "       [0.06029004],\n",
       "       [0.05969751],\n",
       "       [0.0586754 ],\n",
       "       [0.05885316],\n",
       "       [0.05442399],\n",
       "       [0.05366851],\n",
       "       [0.0531056 ],\n",
       "       [0.05423141],\n",
       "       [0.05571274],\n",
       "       [0.05103174],\n",
       "       [0.04768394],\n",
       "       [0.04755062],\n",
       "       [0.04694328],\n",
       "       [0.04595079],\n",
       "       [0.04399544],\n",
       "       [0.04744693],\n",
       "       [0.04541751],\n",
       "       [0.04855793],\n",
       "       [0.04712104],\n",
       "       [0.04365473],\n",
       "       [0.04255855],\n",
       "       [0.0430622 ],\n",
       "       [0.04150681],\n",
       "       [0.0422771 ],\n",
       "       [0.04095872],\n",
       "       [0.03947739],\n",
       "       [0.03827751],\n",
       "       [0.03876635],\n",
       "       [0.03947739],\n",
       "       [0.03879598],\n",
       "       [0.04129942],\n",
       "       [0.04158087],\n",
       "       [0.0418327 ],\n",
       "       [0.04079577],\n",
       "       [0.04326959],\n",
       "       [0.04267706],\n",
       "       [0.04254374],\n",
       "       [0.04443984],\n",
       "       [0.04236598],\n",
       "       [0.04098834],\n",
       "       [0.03992179],\n",
       "       [0.03959589],\n",
       "       [0.04414357],\n",
       "       [0.04802465],\n",
       "       [0.04368436],\n",
       "       [0.04229191],\n",
       "       [0.04297332],\n",
       "       [0.04069208],\n",
       "       [0.03941813],\n",
       "       [0.03937369],\n",
       "       [0.04009955],\n",
       "       [0.03921075],\n",
       "       [0.03876635],\n",
       "       [0.03913668],\n",
       "       [0.03955145],\n",
       "       [0.03884042],\n",
       "       [0.03925519],\n",
       "       [0.03955145],\n",
       "       [0.03940332],\n",
       "       [0.03983291],\n",
       "       [0.03891448],\n",
       "       [0.04084021],\n",
       "       [0.03881079],\n",
       "       [0.03769979],\n",
       "       [0.0375961 ],\n",
       "       [0.03897374],\n",
       "       [0.04002548],\n",
       "       [0.04002548],\n",
       "       [0.03999585],\n",
       "       [0.04202527],\n",
       "       [0.0427215 ],\n",
       "       [0.04445465],\n",
       "       [0.04377324],\n",
       "       [0.04245486],\n",
       "       [0.04318071],\n",
       "       [0.04318071],\n",
       "       [0.04319552],\n",
       "       [0.04184751],\n",
       "       [0.04045506],\n",
       "       [0.04211415],\n",
       "       [0.04321033],\n",
       "       [0.04257336],\n",
       "       [0.04226228],\n",
       "       [0.0441732 ],\n",
       "       [0.04347697],\n",
       "       [0.04329921],\n",
       "       [0.04329921],\n",
       "       [0.04004029],\n",
       "       [0.03983291],\n",
       "       [0.03983291],\n",
       "       [0.03881079],\n",
       "       [0.0388256 ],\n",
       "       [0.0388256 ],\n",
       "       [0.04014399],\n",
       "       [0.04076614],\n",
       "       [0.03953664],\n",
       "       [0.03823307],\n",
       "       [0.03849971],\n",
       "       [0.04122535],\n",
       "       [0.04046988],\n",
       "       [0.03775905],\n",
       "       [0.03664805],\n",
       "       [0.03660361],\n",
       "       [0.03435199],\n",
       "       [0.03418905],\n",
       "       [0.03158191],\n",
       "       [0.03338913],\n",
       "       [0.0319078 ],\n",
       "       [0.03685544],\n",
       "       [0.03808494],\n",
       "       [0.03878116],\n",
       "       [0.03787755],\n",
       "       [0.03901818],\n",
       "       [0.03795162],\n",
       "       [0.04386212],\n",
       "       [0.043951  ],\n",
       "       [0.04001067],\n",
       "       [0.03541855],\n",
       "       [0.03412979],\n",
       "       [0.03407054],\n",
       "       [0.03221888],\n",
       "       [0.03104863],\n",
       "       [0.03213   ],\n",
       "       [0.02663427],\n",
       "       [0.02882664],\n",
       "       [0.02790822],\n",
       "       [0.03438162],\n",
       "       [0.03441125],\n",
       "       [0.03205593],\n",
       "       [0.0327966 ],\n",
       "       [0.03177448],\n",
       "       [0.03196706],\n",
       "       [0.03202631],\n",
       "       [0.0306783 ],\n",
       "       [0.02947842],\n",
       "       [0.03128564],\n",
       "       [0.03014502],\n",
       "       [0.0306783 ],\n",
       "       [0.03047091],\n",
       "       [0.03196706],\n",
       "       [0.0309005 ],\n",
       "       [0.03187818],\n",
       "       [0.03260403],\n",
       "       [0.03260403],\n",
       "       [0.03187818],\n",
       "       [0.03202631],\n",
       "       [0.03005614],\n",
       "       [0.02964137],\n",
       "       [0.02930067],\n",
       "       [0.03131527],\n",
       "       [0.03103382],\n",
       "       [0.03174486],\n",
       "       [0.03087087],\n",
       "       [0.03149303],\n",
       "       [0.03227813],\n",
       "       [0.03082643],\n",
       "       [0.03048573],\n",
       "       [0.02890071],\n",
       "       [0.02981913],\n",
       "       [0.02841187],\n",
       "       [0.02738975],\n",
       "       [0.02718237],\n",
       "       [0.0276712 ],\n",
       "       [0.0271083 ],\n",
       "       [0.02675278],\n",
       "       [0.02712311],\n",
       "       [0.02620469],\n",
       "       [0.02558253],\n",
       "       [0.02460486],\n",
       "       [0.02404195],\n",
       "       [0.02367162],\n",
       "       [0.02447154],\n",
       "       [0.02316797],\n",
       "       [0.02307909],\n",
       "       [0.02319759],\n",
       "       [0.02390863],\n",
       "       [0.02459004],\n",
       "       [0.02507888],\n",
       "       [0.02491593],\n",
       "       [0.02389382],\n",
       "       [0.02341979],\n",
       "       [0.02273838],\n",
       "       [0.02336054],\n",
       "       [0.02267913],\n",
       "       [0.02193847],\n",
       "       [0.0207534 ],\n",
       "       [0.02084228],\n",
       "       [0.02042751],\n",
       "       [0.02054602],\n",
       "       [0.02121261],\n",
       "       [0.02060527],\n",
       "       [0.02069415],\n",
       "       [0.02059046],\n",
       "       [0.02020531],\n",
       "       [0.02115336],\n",
       "       [0.02136075],\n",
       "       [0.02149407],\n",
       "       [0.02207179],\n",
       "       [0.02223473],\n",
       "       [0.02144963],\n",
       "       [0.02158295],\n",
       "       [0.02146444],\n",
       "       [0.02171627],\n",
       "       [0.0220866 ],\n",
       "       [0.02213104],\n",
       "       [0.02205697],\n",
       "       [0.02232361],\n",
       "       [0.02269394],\n",
       "       [0.02244212],\n",
       "       [0.02183477],\n",
       "       [0.02355311],\n",
       "       [0.02352349],\n",
       "       [0.02361237],\n",
       "       [0.02359755],\n",
       "       [0.02380494],\n",
       "       [0.02401232],\n",
       "       [0.02374569],\n",
       "       [0.02380494],\n",
       "       [0.02339017],\n",
       "       [0.02433822],\n",
       "       [0.02313834],\n",
       "       [0.02405676],\n",
       "       [0.0229754 ],\n",
       "       [0.0230939 ],\n",
       "       [0.02217548],\n",
       "       [0.02181996],\n",
       "       [0.02205697],\n",
       "       [0.02150888],\n",
       "       [0.02219029],\n",
       "       [0.02236805],\n",
       "       [0.02162739],\n",
       "       [0.02282726],\n",
       "       [0.02327166],\n",
       "       [0.0224273 ],\n",
       "       [0.02192365],\n",
       "       [0.02156813],\n",
       "       [0.02106448],\n",
       "       [0.02207179],\n",
       "       [0.02165701],\n",
       "       [0.02113855],\n",
       "       [0.0201905 ],\n",
       "       [0.02042751],\n",
       "       [0.02269394],\n",
       "       [0.02318278],\n",
       "       [0.0229754 ],\n",
       "       [0.02204216],\n",
       "       [0.02276801],\n",
       "       [0.02300502],\n",
       "       [0.02313834],\n",
       "       [0.02373087],\n",
       "       [0.02362718],\n",
       "       [0.0229754 ],\n",
       "       [0.02361237],\n",
       "       [0.02196809],\n",
       "       [0.02221992],\n",
       "       [0.02202735],\n",
       "       [0.02181996],\n",
       "       [0.02136075],\n",
       "       [0.02152369],\n",
       "       [0.02104967],\n",
       "       [0.02016087],\n",
       "       [0.01995349],\n",
       "       [0.02158295],\n",
       "       [0.02241249],\n",
       "       [0.02094598],\n",
       "       [0.02094598],\n",
       "       [0.01937577],\n",
       "       [0.02090154],\n",
       "       [0.02007199],\n",
       "       [0.018961  ],\n",
       "       [0.01824996],\n",
       "       [0.01811664],\n",
       "       [0.02002755],\n",
       "       [0.02014606],\n",
       "       [0.01964241],\n",
       "       [0.02029419],\n",
       "       [0.0180722 ],\n",
       "       [0.01817589],\n",
       "       [0.01758336],\n",
       "       [0.01707971],\n",
       "       [0.0166205 ],\n",
       "       [0.01638349],\n",
       "       [0.01580577],\n",
       "       [0.01453183],\n",
       "       [0.01583539],\n",
       "       [0.01605759],\n",
       "       [0.01736116],\n",
       "       [0.01607241],\n",
       "       [0.01607241],\n",
       "       [0.01585021],\n",
       "       [0.01432444],\n",
       "       [0.0157317 ],\n",
       "       [0.01547988],\n",
       "       [0.01601315],\n",
       "       [0.01319863],\n",
       "       [0.01303569],\n",
       "       [0.01174693],\n",
       "       [0.01319863],\n",
       "       [0.01279867],\n",
       "       [0.01402817],\n",
       "       [0.0114951 ],\n",
       "       [0.02229398],\n",
       "       [0.02273838],\n",
       "       [0.0223088 ],\n",
       "       [0.0228717 ],\n",
       "       [0.0277749 ],\n",
       "       [0.0294488 ],\n",
       "       [0.02854519],\n",
       "       [0.02738975],\n",
       "       [0.02687129],\n",
       "       [0.02731569],\n",
       "       [0.0257751 ],\n",
       "       [0.02635282],\n",
       "       [0.0258788 ],\n",
       "       [0.02623432],\n",
       "       [0.02558253],\n",
       "       [0.0277749 ],\n",
       "       [0.03058942],\n",
       "       [0.03158191],\n",
       "       [0.03042647],\n",
       "       [0.03061905],\n",
       "       [0.03054498],\n",
       "       [0.03084125],\n",
       "       [0.03340394],\n",
       "       [0.03252996],\n",
       "       [0.03245589],\n",
       "       [0.03375946],\n",
       "       [0.03678137],\n",
       "       [0.03561112],\n",
       "       [0.03694432],\n",
       "       [0.03583332],\n",
       "       [0.0350334 ],\n",
       "       [0.03375946],\n",
       "       [0.03002652],\n",
       "       [0.03042647],\n",
       "       [0.0283378 ],\n",
       "       [0.02630838],\n",
       "       [0.02470855],\n",
       "       [0.02513813],\n",
       "       [0.02506407],\n",
       "       [0.02481224],\n",
       "       [0.02475299],\n",
       "       [0.02524183],\n",
       "       [0.02430859],\n",
       "       [0.02444191],\n",
       "       [0.02392344],\n",
       "       [0.02365681],\n",
       "       [0.02291614],\n",
       "       [0.02304946],\n",
       "       [0.02303465],\n",
       "       [0.02416046],\n",
       "       [0.02459004],\n",
       "       [0.02343461],\n",
       "       [0.02350867],\n",
       "       [0.02417527],\n",
       "       [0.02456042],\n",
       "       [0.02303465],\n",
       "       [0.02389382],\n",
       "       [0.02245693],\n",
       "       [0.02026457],\n",
       "       [0.02050158],\n",
       "       [0.01992386],\n",
       "       [0.02010162],\n",
       "       [0.01912394],\n",
       "       [0.01933133],\n",
       "       [0.02004237],\n",
       "       [0.01995349],\n",
       "       [0.0186351 ],\n",
       "       [0.01830921],\n",
       "       [0.01801295],\n",
       "       [0.01709452],\n",
       "       [0.01808701],\n",
       "       [0.01813145],\n",
       "       [0.01836847],\n",
       "       [0.01869436],\n",
       "       [0.01810183],\n",
       "       [0.01749448],\n",
       "       [0.01733154],\n",
       "       [0.01710934],\n",
       "       [0.01759818],\n",
       "       [0.01756855],\n",
       "       [0.01824996],\n",
       "       [0.01755374],\n",
       "       [0.01787963],\n",
       "       [0.01756855],\n",
       "       [0.01792407],\n",
       "       [0.01611685],\n",
       "       [0.01795369],\n",
       "       [0.01934614],\n",
       "       [0.01931652],\n",
       "       [0.01987942],\n",
       "       [0.01976091],\n",
       "       [0.01980535],\n",
       "       [0.02004237],\n",
       "       [0.02066452],\n",
       "       [0.02096079],\n",
       "       [0.02094598],\n",
       "       [0.02104967],\n",
       "       [0.02100523],\n",
       "       [0.02024975],\n",
       "       [0.02048676],\n",
       "       [0.02032382],\n",
       "       [0.02079784],\n",
       "       [0.02102004],\n",
       "       [0.02170145],\n",
       "       [0.02078303],\n",
       "       [0.02153851],\n",
       "       [0.02070896],\n",
       "       [0.02045714],\n",
       "       [0.02032382],\n",
       "       [0.02192365],\n",
       "       [0.02087191],\n",
       "       [0.02269394],\n",
       "       [0.02448635],\n",
       "       [0.02516776],\n",
       "       [0.02608618],\n",
       "       [0.02765639],\n",
       "       [0.02756751],\n",
       "       [0.02787859],\n",
       "       [0.02921179],\n",
       "       [0.02935992],\n",
       "       [0.02873776],\n",
       "       [0.02758232],\n",
       "       [0.02804154],\n",
       "       [0.02706386],\n",
       "       [0.02698979],\n",
       "       [0.02801191],\n",
       "       [0.02838224],\n",
       "       [0.0283378 ],\n",
       "       [0.0283378 ],\n",
       "       [0.02765639],\n",
       "       [0.02770083],\n",
       "       [0.02727125],\n",
       "       [0.02719718],\n",
       "       [0.02727125],\n",
       "       [0.02839706],\n",
       "       [0.02727125],\n",
       "       [0.02638245],\n",
       "       [0.02583436],\n",
       "       [0.02534552],\n",
       "       [0.02282726],\n",
       "       [0.02256062],\n",
       "       [0.02473818],\n",
       "       [0.02482705],\n",
       "       [0.02515295],\n",
       "       [0.02470855],\n",
       "       [0.02475299],\n",
       "       [0.02519739],\n",
       "       [0.0241012 ],\n",
       "       [0.02510851],\n",
       "       [0.02509369],\n",
       "       [0.0247678 ],\n",
       "       [0.02327166],\n",
       "       [0.02238286],\n",
       "       [0.0237605 ],\n",
       "       [0.02402714],\n",
       "       [0.02155332],\n",
       "       [0.02156813],\n",
       "       [0.02054602],\n",
       "       [0.02106448],\n",
       "       [0.0209756 ],\n",
       "       [0.02104967],\n",
       "       [0.02136075],\n",
       "       [0.02127187],\n",
       "       [0.02125705],\n",
       "       [0.0204127 ],\n",
       "       [0.02112374],\n",
       "       [0.0209756 ],\n",
       "       [0.02062008],\n",
       "       [0.0218644 ],\n",
       "       [0.02150888],\n",
       "       [0.02681203],\n",
       "       [0.02823411],\n",
       "       [0.02910809],\n",
       "       [0.02949324],\n",
       "       [0.02980432],\n",
       "       [0.03070793],\n",
       "       [0.02901921],\n",
       "       [0.02810079],\n",
       "       [0.02830818],\n",
       "       [0.02904884],\n",
       "       [0.02879701],\n",
       "       [0.0287822 ],\n",
       "       [0.02885627],\n",
       "       [0.03048573],\n",
       "       [0.03087087],\n",
       "       [0.03125602],\n",
       "       [0.03109307],\n",
       "       [0.03050054],\n",
       "       [0.03150784],\n",
       "       [0.03013021],\n",
       "       [0.0311227 ],\n",
       "       [0.03152266],\n",
       "       [0.02970062],\n",
       "       [0.0292266 ],\n",
       "       [0.03063386],\n",
       "       [0.03014502],\n",
       "       [0.03248552],\n",
       "       [0.0357    ],\n",
       "       [0.03648511],\n",
       "       [0.03642585],\n",
       "       [0.03695913],\n",
       "       [0.03783311],\n",
       "       [0.0378183 ],\n",
       "       [0.03771461],\n",
       "       [0.03925519],\n",
       "       [0.04042544],\n",
       "       [0.03913668],\n",
       "       [0.03845527],\n",
       "       [0.03852934],\n",
       "       [0.03941813],\n",
       "       [0.03778867],\n",
       "       [0.04140311],\n",
       "       [0.0424993 ],\n",
       "       [0.0426178 ],\n",
       "       [0.04164013],\n",
       "       [0.04196602],\n",
       "       [0.04401025],\n",
       "       [0.04171419],\n",
       "       [0.03875154],\n",
       "       [0.03922556],\n",
       "       [0.03835158],\n",
       "       [0.03888486],\n",
       "       [0.03941813],\n",
       "       [0.04029212],\n",
       "       [0.03887004],\n",
       "       [0.03769979],\n",
       "       [0.03783311],\n",
       "       [0.03885523],\n",
       "       [0.0388256 ],\n",
       "       [0.04057357],\n",
       "       [0.04063282],\n",
       "       [0.04057357],\n",
       "       [0.04143274],\n",
       "       [0.04347697],\n",
       "       [0.04285482],\n",
       "       [0.04381768],\n",
       "       [0.04073652],\n",
       "       [0.04061801],\n",
       "       [0.03869228],\n",
       "       [0.0349149 ],\n",
       "       [0.04012917],\n",
       "       [0.04001067],\n",
       "       [0.0443954 ],\n",
       "       [0.04501755],\n",
       "       [0.0413883 ],\n",
       "       [0.04403988],\n",
       "       [0.0459656 ],\n",
       "       [0.04726917],\n",
       "       [0.0466322 ],\n",
       "       [0.04609892],\n",
       "       [0.04608411],\n",
       "       [0.04678033],\n",
       "       [0.04590635],\n",
       "       [0.04515087],\n",
       "       [0.0470766 ],\n",
       "       [0.04535826],\n",
       "       [0.05036515],\n",
       "       [0.04906158],\n",
       "       [0.04878013],\n",
       "       [0.05115025],\n",
       "       [0.05123913],\n",
       "       [0.05323892],\n",
       "       [0.05297228],\n",
       "       [0.05402403],\n",
       "       [0.05504614],\n",
       "       [0.05227606],\n",
       "       [0.04981706],\n",
       "       [0.04889863],\n",
       "       [0.04783208],\n",
       "       [0.04549158],\n",
       "       [0.04624706],\n",
       "       [0.04581747],\n",
       "       [0.04993556],\n",
       "       [0.04940228],\n",
       "       [0.04503237],\n",
       "       [0.0451805 ],\n",
       "       [0.04245486],\n",
       "       [0.04475091],\n",
       "       [0.04435096],\n",
       "       [0.04393618],\n",
       "       [0.04349179],\n",
       "       [0.0410476 ],\n",
       "       [0.04352141],\n",
       "       [0.04691365],\n",
       "       [0.04712104],\n",
       "       [0.04657295],\n",
       "       [0.04464722],\n",
       "       [0.04759506],\n",
       "       [0.0468544 ],\n",
       "       [0.04735805],\n",
       "       [0.0470766 ],\n",
       "       [0.04981706],\n",
       "       [0.0483061 ],\n",
       "       [0.04433614],\n",
       "       [0.04378805],\n",
       "       [0.04580266],\n",
       "       [0.04115129],\n",
       "       [0.04100316],\n",
       "       [0.04055876],\n",
       "       [0.03601108],\n",
       "       [0.03673693],\n",
       "       [0.03752203],\n",
       "       [0.03281141],\n",
       "       [0.03260403],\n",
       "       [0.02884145],\n",
       "       [0.02867851],\n",
       "       [0.02685647],\n",
       "       [0.02567141],\n",
       "       [0.02841187],\n",
       "       [0.02839706],\n",
       "       [0.03064867],\n",
       "       [0.03183374],\n",
       "       [0.03171523],\n",
       "       [0.03290029],\n",
       "       [0.03276697],\n",
       "       [0.03020428],\n",
       "       [0.03044129],\n",
       "       [0.0298932 ],\n",
       "       [0.03187818],\n",
       "       [0.03100419],\n",
       "       [0.03195224],\n",
       "       [0.03109307],\n",
       "       [0.03187818],\n",
       "       [0.03119676],\n",
       "       [0.0330188 ],\n",
       "       [0.03338913],\n",
       "       [0.03466307],\n",
       "       [0.03381872],\n",
       "       [0.03020428],\n",
       "       [0.0266639 ],\n",
       "       [0.0268861 ],\n",
       "       [0.02633801],\n",
       "       [0.02650096],\n",
       "       [0.02537515],\n",
       "       [0.02493075],\n",
       "       [0.0237605 ],\n",
       "       [0.02481224],\n",
       "       [0.02490112],\n",
       "       [0.0244271 ],\n",
       "       [0.0258788 ],\n",
       "       [0.02602693],\n",
       "       [0.02647133],\n",
       "       [0.02593805],\n",
       "       [0.0252122 ],\n",
       "       [0.02700461],\n",
       "       [0.0243234 ],\n",
       "       [0.0237605 ],\n",
       "       [0.02293096],\n",
       "       [0.02221992],\n",
       "       [0.02245693],\n",
       "       [0.02235324],\n",
       "       [0.02176071],\n",
       "       [0.02266432],\n",
       "       [0.02316797],\n",
       "       [0.02023494],\n",
       "       [0.02023494],\n",
       "       [0.01904988],\n",
       "       [0.02020531],\n",
       "       [0.02076822],\n",
       "       [0.02081266],\n",
       "       [0.02093116],\n",
       "       [0.02142   ],\n",
       "       [0.01992386],\n",
       "       [0.01986461],\n",
       "       [0.02004237],\n",
       "       [0.02051639],\n",
       "       [0.01913876],\n",
       "       [0.0190795 ],\n",
       "       [0.01922764],\n",
       "       [0.018961  ],\n",
       "       [0.02016087],\n",
       "       [0.01939058],\n",
       "       [0.01801295],\n",
       "       [0.01469477],\n",
       "       [0.01475403],\n",
       "       [0.01519842],\n",
       "       [0.01460589],\n",
       "       [0.01300606],\n",
       "       [0.0123839 ]])"
      ]
     },
     "execution_count": 20,
     "metadata": {},
     "output_type": "execute_result"
    }
   ],
   "source": [
    "train_data"
   ]
  },
  {
   "cell_type": "code",
   "execution_count": 21,
   "metadata": {
    "id": "-LGBdAgQQyjM"
   },
   "outputs": [],
   "source": [
    "import numpy\n",
    "# convert an array of values into a dataset matrix\n",
    "def create_dataset(dataset, time_step=1):\n",
    "\tdataX, dataY = [], []\n",
    "\tfor i in range(len(dataset)-time_step-1):\n",
    "\t\ta = dataset[i:(i+time_step), 0]   ###i=0, 0,1,2,3-----99   100 \n",
    "\t\tdataX.append(a)\n",
    "\t\tdataY.append(dataset[i + time_step, 0])\n",
    "\treturn numpy.array(dataX), numpy.array(dataY)"
   ]
  },
  {
   "cell_type": "code",
   "execution_count": 22,
   "metadata": {
    "id": "7-WTiE88QyjO"
   },
   "outputs": [],
   "source": [
    "# reshape into X=t,t+1,t+2,t+3 and Y=t+4\n",
    "time_step = 100\n",
    "X_train, y_train = create_dataset(train_data, time_step)\n",
    "X_test, ytest = create_dataset(test_data, time_step)"
   ]
  },
  {
   "cell_type": "code",
   "execution_count": 23,
   "metadata": {
    "colab": {
     "base_uri": "https://localhost:8080/"
    },
    "id": "90Y0B2kFQyjP",
    "outputId": "697ebe49-ff31-4a97-c3dc-3c4c4a127871"
   },
   "outputs": [
    {
     "name": "stdout",
     "output_type": "stream",
     "text": [
      "(781, 100)\n",
      "(781,)\n"
     ]
    },
    {
     "data": {
      "text/plain": [
       "(None, None)"
      ]
     },
     "execution_count": 23,
     "metadata": {},
     "output_type": "execute_result"
    }
   ],
   "source": [
    "print(X_train.shape), print(y_train.shape)"
   ]
  },
  {
   "cell_type": "code",
   "execution_count": 24,
   "metadata": {
    "colab": {
     "base_uri": "https://localhost:8080/"
    },
    "id": "dOFUOrjyQyjS",
    "outputId": "9e9c2b02-db99-411a-cc21-6ed48d8a6c08"
   },
   "outputs": [
    {
     "name": "stdout",
     "output_type": "stream",
     "text": [
      "(374, 100)\n",
      "(374,)\n"
     ]
    },
    {
     "data": {
      "text/plain": [
       "(None, None)"
      ]
     },
     "execution_count": 24,
     "metadata": {},
     "output_type": "execute_result"
    }
   ],
   "source": [
    "print(X_test.shape), print(ytest.shape)"
   ]
  },
  {
   "cell_type": "code",
   "execution_count": 25,
   "metadata": {
    "id": "kiU_d1QMQyjT"
   },
   "outputs": [],
   "source": [
    "# reshape input to be [samples, time steps, features] which is required for LSTM\n",
    "X_train =X_train.reshape(X_train.shape[0],X_train.shape[1] , 1)\n",
    "X_test = X_test.reshape(X_test.shape[0],X_test.shape[1] , 1)"
   ]
  },
  {
   "cell_type": "code",
   "execution_count": 26,
   "metadata": {
    "id": "m8cjQ1ukQyjU"
   },
   "outputs": [],
   "source": [
    "### Create the Stacked LSTM model\n",
    "from tensorflow.keras.models import Sequential\n",
    "from tensorflow.keras.layers import Dense\n",
    "from tensorflow.keras.layers import LSTM"
   ]
  },
  {
   "cell_type": "code",
   "execution_count": 27,
   "metadata": {
    "id": "GKQLUwSHQyjV"
   },
   "outputs": [],
   "source": [
    "model=Sequential()\n",
    "model.add(LSTM(50,return_sequences=True,input_shape=(100,1)))\n",
    "model.add(LSTM(50,return_sequences=True))\n",
    "model.add(LSTM(50))\n",
    "model.add(Dense(1))\n",
    "model.compile(loss='mean_squared_error',optimizer='adam')\n"
   ]
  },
  {
   "cell_type": "code",
   "execution_count": 28,
   "metadata": {
    "colab": {
     "base_uri": "https://localhost:8080/"
    },
    "id": "lmn4pZVGQyjX",
    "outputId": "f3a24e30-f1ad-49bc-b281-109c2039e344"
   },
   "outputs": [
    {
     "name": "stdout",
     "output_type": "stream",
     "text": [
      "Model: \"sequential\"\n",
      "_________________________________________________________________\n",
      "Layer (type)                 Output Shape              Param #   \n",
      "=================================================================\n",
      "lstm (LSTM)                  (None, 100, 50)           10400     \n",
      "_________________________________________________________________\n",
      "lstm_1 (LSTM)                (None, 100, 50)           20200     \n",
      "_________________________________________________________________\n",
      "lstm_2 (LSTM)                (None, 50)                20200     \n",
      "_________________________________________________________________\n",
      "dense (Dense)                (None, 1)                 51        \n",
      "=================================================================\n",
      "Total params: 50,851\n",
      "Trainable params: 50,851\n",
      "Non-trainable params: 0\n",
      "_________________________________________________________________\n"
     ]
    }
   ],
   "source": [
    "model.summary()"
   ]
  },
  {
   "cell_type": "code",
   "execution_count": null,
   "metadata": {
    "id": "9ERF_KmJQyjY",
    "outputId": "b220f92c-81a8-41ba-a157-382b829f9a41"
   },
   "outputs": [
    {
     "name": "stdout",
     "output_type": "stream",
     "text": [
      "Model: \"sequential_2\"\n",
      "_________________________________________________________________\n",
      "Layer (type)                 Output Shape              Param #   \n",
      "=================================================================\n",
      "lstm_4 (LSTM)                (None, 100, 50)           10400     \n",
      "_________________________________________________________________\n",
      "lstm_5 (LSTM)                (None, 100, 50)           20200     \n",
      "_________________________________________________________________\n",
      "lstm_6 (LSTM)                (None, 50)                20200     \n",
      "_________________________________________________________________\n",
      "dense_2 (Dense)              (None, 1)                 51        \n",
      "=================================================================\n",
      "Total params: 50,851\n",
      "Trainable params: 50,851\n",
      "Non-trainable params: 0\n",
      "_________________________________________________________________\n"
     ]
    }
   ],
   "source": [
    "model.summary()"
   ]
  },
  {
   "cell_type": "code",
   "execution_count": null,
   "metadata": {
    "id": "j6ZfYgazQyjZ"
   },
   "outputs": [],
   "source": []
  },
  {
   "cell_type": "code",
   "execution_count": 29,
   "metadata": {
    "colab": {
     "base_uri": "https://localhost:8080/"
    },
    "id": "M9zjGHbWQyja",
    "outputId": "9cba23bb-1672-4fe6-e9a7-476d1fb0b84b"
   },
   "outputs": [
    {
     "name": "stdout",
     "output_type": "stream",
     "text": [
      "Epoch 1/100\n",
      "13/13 [==============================] - 9s 297ms/step - loss: 0.0073 - val_loss: 0.0012\n",
      "Epoch 2/100\n",
      "13/13 [==============================] - 3s 193ms/step - loss: 0.0022 - val_loss: 2.3827e-04\n",
      "Epoch 3/100\n",
      "13/13 [==============================] - 2s 191ms/step - loss: 0.0017 - val_loss: 7.4409e-05\n",
      "Epoch 4/100\n",
      "13/13 [==============================] - 2s 188ms/step - loss: 0.0010 - val_loss: 3.4896e-05\n",
      "Epoch 5/100\n",
      "13/13 [==============================] - 2s 192ms/step - loss: 8.9577e-04 - val_loss: 3.1117e-05\n",
      "Epoch 6/100\n",
      "13/13 [==============================] - 2s 191ms/step - loss: 9.7635e-04 - val_loss: 6.1944e-05\n",
      "Epoch 7/100\n",
      "13/13 [==============================] - 2s 193ms/step - loss: 9.5039e-04 - val_loss: 1.3691e-05\n",
      "Epoch 8/100\n",
      "13/13 [==============================] - 2s 190ms/step - loss: 0.0010 - val_loss: 2.3435e-04\n",
      "Epoch 9/100\n",
      "13/13 [==============================] - 2s 192ms/step - loss: 9.3120e-04 - val_loss: 5.4971e-05\n",
      "Epoch 10/100\n",
      "13/13 [==============================] - 3s 192ms/step - loss: 9.8228e-04 - val_loss: 2.1157e-05\n",
      "Epoch 11/100\n",
      "13/13 [==============================] - 2s 192ms/step - loss: 8.3880e-04 - val_loss: 1.5033e-05\n",
      "Epoch 12/100\n",
      "13/13 [==============================] - 2s 190ms/step - loss: 8.1502e-04 - val_loss: 7.6853e-05\n",
      "Epoch 13/100\n",
      "13/13 [==============================] - 3s 194ms/step - loss: 9.0229e-04 - val_loss: 7.0416e-05\n",
      "Epoch 14/100\n",
      "13/13 [==============================] - 3s 194ms/step - loss: 8.1880e-04 - val_loss: 3.2376e-05\n",
      "Epoch 15/100\n",
      "13/13 [==============================] - 2s 192ms/step - loss: 0.0010 - val_loss: 8.0849e-05\n",
      "Epoch 16/100\n",
      "13/13 [==============================] - 2s 190ms/step - loss: 8.5497e-04 - val_loss: 1.9221e-05\n",
      "Epoch 17/100\n",
      "13/13 [==============================] - 2s 190ms/step - loss: 7.7871e-04 - val_loss: 1.5890e-05\n",
      "Epoch 18/100\n",
      "13/13 [==============================] - 2s 190ms/step - loss: 7.2915e-04 - val_loss: 1.1773e-05\n",
      "Epoch 19/100\n",
      "13/13 [==============================] - 3s 194ms/step - loss: 8.5225e-04 - val_loss: 2.1304e-05\n",
      "Epoch 20/100\n",
      "13/13 [==============================] - 2s 193ms/step - loss: 0.0011 - val_loss: 1.2298e-04\n",
      "Epoch 21/100\n",
      "13/13 [==============================] - 2s 193ms/step - loss: 8.9571e-04 - val_loss: 2.3758e-04\n",
      "Epoch 22/100\n",
      "13/13 [==============================] - 2s 193ms/step - loss: 8.4781e-04 - val_loss: 2.0683e-05\n",
      "Epoch 23/100\n",
      "13/13 [==============================] - 2s 190ms/step - loss: 6.7639e-04 - val_loss: 2.8369e-05\n",
      "Epoch 24/100\n",
      "13/13 [==============================] - 2s 191ms/step - loss: 7.0067e-04 - val_loss: 1.2005e-05\n",
      "Epoch 25/100\n",
      "13/13 [==============================] - 2s 193ms/step - loss: 0.0010 - val_loss: 1.1977e-05\n",
      "Epoch 26/100\n",
      "13/13 [==============================] - 3s 195ms/step - loss: 7.6774e-04 - val_loss: 7.9083e-05\n",
      "Epoch 27/100\n",
      "13/13 [==============================] - 3s 195ms/step - loss: 7.1094e-04 - val_loss: 1.1390e-05\n",
      "Epoch 28/100\n",
      "13/13 [==============================] - 2s 191ms/step - loss: 6.8371e-04 - val_loss: 1.7155e-05\n",
      "Epoch 29/100\n",
      "13/13 [==============================] - 2s 189ms/step - loss: 6.9304e-04 - val_loss: 3.1861e-05\n",
      "Epoch 30/100\n",
      "13/13 [==============================] - 2s 193ms/step - loss: 6.4528e-04 - val_loss: 4.6098e-05\n",
      "Epoch 31/100\n",
      "13/13 [==============================] - 2s 193ms/step - loss: 5.9225e-04 - val_loss: 2.5741e-05\n",
      "Epoch 32/100\n",
      "13/13 [==============================] - 2s 193ms/step - loss: 6.3482e-04 - val_loss: 5.8800e-05\n",
      "Epoch 33/100\n",
      "13/13 [==============================] - 2s 193ms/step - loss: 5.5021e-04 - val_loss: 4.7271e-05\n",
      "Epoch 34/100\n",
      "13/13 [==============================] - 3s 194ms/step - loss: 6.7740e-04 - val_loss: 2.6806e-05\n",
      "Epoch 35/100\n",
      "13/13 [==============================] - 3s 196ms/step - loss: 7.9244e-04 - val_loss: 8.9070e-06\n",
      "Epoch 36/100\n",
      "13/13 [==============================] - 2s 193ms/step - loss: 5.9382e-04 - val_loss: 6.6706e-05\n",
      "Epoch 37/100\n",
      "13/13 [==============================] - 3s 194ms/step - loss: 5.0397e-04 - val_loss: 3.6806e-05\n",
      "Epoch 38/100\n",
      "13/13 [==============================] - 3s 196ms/step - loss: 6.6034e-04 - val_loss: 6.7544e-05\n",
      "Epoch 39/100\n",
      "13/13 [==============================] - 3s 194ms/step - loss: 4.6707e-04 - val_loss: 5.3858e-05\n",
      "Epoch 40/100\n",
      "13/13 [==============================] - 2s 191ms/step - loss: 3.9466e-04 - val_loss: 2.6865e-05\n",
      "Epoch 41/100\n",
      "13/13 [==============================] - 3s 193ms/step - loss: 4.0502e-04 - val_loss: 1.0931e-05\n",
      "Epoch 42/100\n",
      "13/13 [==============================] - 2s 190ms/step - loss: 4.0121e-04 - val_loss: 7.5360e-06\n",
      "Epoch 43/100\n",
      "13/13 [==============================] - 3s 196ms/step - loss: 4.1130e-04 - val_loss: 1.0250e-05\n",
      "Epoch 44/100\n",
      "13/13 [==============================] - 3s 196ms/step - loss: 4.2621e-04 - val_loss: 3.6414e-05\n",
      "Epoch 45/100\n",
      "13/13 [==============================] - 3s 193ms/step - loss: 3.9097e-04 - val_loss: 8.2123e-06\n",
      "Epoch 46/100\n",
      "13/13 [==============================] - 2s 192ms/step - loss: 3.8622e-04 - val_loss: 1.6060e-05\n",
      "Epoch 47/100\n",
      "13/13 [==============================] - 3s 194ms/step - loss: 3.6680e-04 - val_loss: 1.6093e-05\n",
      "Epoch 48/100\n",
      "13/13 [==============================] - 3s 195ms/step - loss: 3.6059e-04 - val_loss: 3.2597e-05\n",
      "Epoch 49/100\n",
      "13/13 [==============================] - 2s 192ms/step - loss: 4.7649e-04 - val_loss: 5.5526e-05\n",
      "Epoch 50/100\n",
      "13/13 [==============================] - 3s 195ms/step - loss: 5.3241e-04 - val_loss: 2.2618e-04\n",
      "Epoch 51/100\n",
      "13/13 [==============================] - 2s 193ms/step - loss: 4.6401e-04 - val_loss: 1.0692e-05\n",
      "Epoch 52/100\n",
      "13/13 [==============================] - 2s 192ms/step - loss: 4.0941e-04 - val_loss: 3.1252e-05\n",
      "Epoch 53/100\n",
      "13/13 [==============================] - 2s 191ms/step - loss: 3.6890e-04 - val_loss: 1.0843e-05\n",
      "Epoch 54/100\n",
      "13/13 [==============================] - 2s 192ms/step - loss: 3.5741e-04 - val_loss: 6.8384e-06\n",
      "Epoch 55/100\n",
      "13/13 [==============================] - 2s 194ms/step - loss: 4.8419e-04 - val_loss: 1.8191e-04\n",
      "Epoch 56/100\n",
      "13/13 [==============================] - 3s 196ms/step - loss: 3.7753e-04 - val_loss: 3.0382e-05\n",
      "Epoch 57/100\n",
      "13/13 [==============================] - 3s 198ms/step - loss: 3.8189e-04 - val_loss: 2.7624e-05\n",
      "Epoch 58/100\n",
      "13/13 [==============================] - 2s 193ms/step - loss: 3.7624e-04 - val_loss: 1.6606e-05\n",
      "Epoch 59/100\n",
      "13/13 [==============================] - 2s 193ms/step - loss: 3.3866e-04 - val_loss: 2.2768e-05\n",
      "Epoch 60/100\n",
      "13/13 [==============================] - 3s 195ms/step - loss: 3.1363e-04 - val_loss: 7.0553e-06\n",
      "Epoch 61/100\n",
      "13/13 [==============================] - 2s 190ms/step - loss: 3.5300e-04 - val_loss: 1.2684e-05\n",
      "Epoch 62/100\n",
      "13/13 [==============================] - 2s 193ms/step - loss: 3.0466e-04 - val_loss: 6.2149e-06\n",
      "Epoch 63/100\n",
      "13/13 [==============================] - 3s 194ms/step - loss: 3.0891e-04 - val_loss: 5.0154e-05\n",
      "Epoch 64/100\n",
      "13/13 [==============================] - 2s 191ms/step - loss: 3.5390e-04 - val_loss: 9.2472e-05\n",
      "Epoch 65/100\n",
      "13/13 [==============================] - 2s 194ms/step - loss: 3.4172e-04 - val_loss: 8.8140e-06\n",
      "Epoch 66/100\n",
      "13/13 [==============================] - 3s 193ms/step - loss: 3.2512e-04 - val_loss: 2.5767e-05\n",
      "Epoch 67/100\n",
      "13/13 [==============================] - 3s 195ms/step - loss: 3.4207e-04 - val_loss: 1.6722e-05\n",
      "Epoch 68/100\n",
      "13/13 [==============================] - 3s 194ms/step - loss: 2.9383e-04 - val_loss: 8.1845e-06\n",
      "Epoch 69/100\n",
      "13/13 [==============================] - 2s 191ms/step - loss: 3.2026e-04 - val_loss: 7.1158e-06\n",
      "Epoch 70/100\n",
      "13/13 [==============================] - 2s 190ms/step - loss: 3.3828e-04 - val_loss: 6.1564e-06\n",
      "Epoch 71/100\n",
      "13/13 [==============================] - 3s 199ms/step - loss: 3.2134e-04 - val_loss: 2.4451e-05\n",
      "Epoch 72/100\n",
      "13/13 [==============================] - 3s 194ms/step - loss: 3.0244e-04 - val_loss: 6.5259e-06\n",
      "Epoch 73/100\n",
      "13/13 [==============================] - 3s 194ms/step - loss: 3.0592e-04 - val_loss: 3.6804e-05\n",
      "Epoch 74/100\n",
      "13/13 [==============================] - 2s 193ms/step - loss: 3.4292e-04 - val_loss: 3.1922e-05\n",
      "Epoch 75/100\n",
      "13/13 [==============================] - 3s 195ms/step - loss: 3.6924e-04 - val_loss: 7.6951e-06\n",
      "Epoch 76/100\n",
      "13/13 [==============================] - 2s 192ms/step - loss: 3.6905e-04 - val_loss: 2.6130e-05\n",
      "Epoch 77/100\n",
      "13/13 [==============================] - 2s 193ms/step - loss: 3.2085e-04 - val_loss: 6.6128e-06\n",
      "Epoch 78/100\n",
      "13/13 [==============================] - 2s 191ms/step - loss: 3.2125e-04 - val_loss: 6.3560e-06\n",
      "Epoch 79/100\n",
      "13/13 [==============================] - 2s 191ms/step - loss: 2.5980e-04 - val_loss: 6.5453e-06\n",
      "Epoch 80/100\n",
      "13/13 [==============================] - 3s 193ms/step - loss: 4.4352e-04 - val_loss: 4.1965e-05\n",
      "Epoch 81/100\n",
      "13/13 [==============================] - 3s 196ms/step - loss: 3.8298e-04 - val_loss: 1.0287e-04\n",
      "Epoch 82/100\n",
      "13/13 [==============================] - 2s 192ms/step - loss: 3.0924e-04 - val_loss: 6.7957e-06\n",
      "Epoch 83/100\n",
      "13/13 [==============================] - 3s 195ms/step - loss: 3.3631e-04 - val_loss: 4.0400e-05\n",
      "Epoch 84/100\n",
      "13/13 [==============================] - 3s 196ms/step - loss: 4.0727e-04 - val_loss: 8.4056e-05\n",
      "Epoch 85/100\n",
      "13/13 [==============================] - 2s 192ms/step - loss: 3.8914e-04 - val_loss: 1.7203e-04\n",
      "Epoch 86/100\n",
      "13/13 [==============================] - 2s 191ms/step - loss: 3.6135e-04 - val_loss: 5.8395e-05\n",
      "Epoch 87/100\n",
      "13/13 [==============================] - 2s 191ms/step - loss: 3.6682e-04 - val_loss: 7.8160e-06\n",
      "Epoch 88/100\n",
      "13/13 [==============================] - 3s 194ms/step - loss: 3.5866e-04 - val_loss: 2.4444e-05\n",
      "Epoch 89/100\n",
      "13/13 [==============================] - 2s 193ms/step - loss: 3.6558e-04 - val_loss: 6.7124e-05\n",
      "Epoch 90/100\n",
      "13/13 [==============================] - 2s 193ms/step - loss: 3.1847e-04 - val_loss: 1.2648e-05\n",
      "Epoch 91/100\n",
      "13/13 [==============================] - 3s 195ms/step - loss: 3.0173e-04 - val_loss: 7.0574e-06\n",
      "Epoch 92/100\n",
      "13/13 [==============================] - 3s 197ms/step - loss: 2.9728e-04 - val_loss: 4.7747e-05\n",
      "Epoch 93/100\n",
      "13/13 [==============================] - 2s 193ms/step - loss: 2.4963e-04 - val_loss: 9.0891e-06\n",
      "Epoch 94/100\n",
      "13/13 [==============================] - 3s 195ms/step - loss: 2.4323e-04 - val_loss: 3.9654e-05\n",
      "Epoch 95/100\n",
      "13/13 [==============================] - 3s 195ms/step - loss: 2.7988e-04 - val_loss: 2.8957e-05\n",
      "Epoch 96/100\n",
      "13/13 [==============================] - 3s 195ms/step - loss: 2.3393e-04 - val_loss: 2.4525e-05\n",
      "Epoch 97/100\n",
      "13/13 [==============================] - 3s 195ms/step - loss: 2.3113e-04 - val_loss: 3.5375e-05\n",
      "Epoch 98/100\n",
      "13/13 [==============================] - 3s 195ms/step - loss: 2.3486e-04 - val_loss: 3.0548e-05\n",
      "Epoch 99/100\n",
      "13/13 [==============================] - 2s 191ms/step - loss: 2.1114e-04 - val_loss: 2.0132e-05\n",
      "Epoch 100/100\n",
      "13/13 [==============================] - 2s 188ms/step - loss: 2.4431e-04 - val_loss: 4.3473e-05\n"
     ]
    },
    {
     "data": {
      "text/plain": [
       "<keras.callbacks.History at 0x7f8c254c4d90>"
      ]
     },
     "execution_count": 29,
     "metadata": {},
     "output_type": "execute_result"
    }
   ],
   "source": [
    "model.fit(X_train,y_train,validation_data=(X_test,ytest),epochs=100,batch_size=64,verbose=1)"
   ]
  },
  {
   "cell_type": "code",
   "execution_count": 30,
   "metadata": {
    "id": "KMfN6WJwQyjb"
   },
   "outputs": [],
   "source": [
    "import tensorflow as tf"
   ]
  },
  {
   "cell_type": "code",
   "execution_count": 31,
   "metadata": {
    "colab": {
     "base_uri": "https://localhost:8080/",
     "height": 35
    },
    "id": "0FMAWmEzQyjc",
    "outputId": "a3603100-b7b6-4299-9c10-920b29f04e86"
   },
   "outputs": [
    {
     "data": {
      "application/vnd.google.colaboratory.intrinsic+json": {
       "type": "string"
      },
      "text/plain": [
       "'2.6.0'"
      ]
     },
     "execution_count": 31,
     "metadata": {},
     "output_type": "execute_result"
    }
   ],
   "source": [
    "tf.__version__"
   ]
  },
  {
   "cell_type": "code",
   "execution_count": 32,
   "metadata": {
    "id": "BMKW5MlGQyjd"
   },
   "outputs": [],
   "source": [
    "### Lets Do the prediction and check performance metrics\n",
    "train_predict=model.predict(X_train)\n",
    "test_predict=model.predict(X_test)"
   ]
  },
  {
   "cell_type": "code",
   "execution_count": 33,
   "metadata": {
    "id": "0_gNmuVNQyjj"
   },
   "outputs": [],
   "source": [
    "##Transformback to original form\n",
    "train_predict=scaler.inverse_transform(train_predict)\n",
    "test_predict=scaler.inverse_transform(test_predict)"
   ]
  },
  {
   "cell_type": "code",
   "execution_count": 34,
   "metadata": {
    "colab": {
     "base_uri": "https://localhost:8080/"
    },
    "id": "Al2M5YB_Qyjk",
    "outputId": "8c729442-1611-4b0b-84df-d99a731569d9"
   },
   "outputs": [
    {
     "data": {
      "text/plain": [
       "97.19787042299514"
      ]
     },
     "execution_count": 34,
     "metadata": {},
     "output_type": "execute_result"
    }
   ],
   "source": [
    "### Calculate RMSE performance metrics\n",
    "import math\n",
    "from sklearn.metrics import mean_squared_error\n",
    "math.sqrt(mean_squared_error(y_train,train_predict))"
   ]
  },
  {
   "cell_type": "code",
   "execution_count": 35,
   "metadata": {
    "colab": {
     "base_uri": "https://localhost:8080/"
    },
    "id": "7x0DFtIsQyjl",
    "outputId": "4aefea23-64e4-4bec-af5e-b326a5a860a8"
   },
   "outputs": [
    {
     "data": {
      "text/plain": [
       "15.289044523554562"
      ]
     },
     "execution_count": 35,
     "metadata": {},
     "output_type": "execute_result"
    }
   ],
   "source": [
    "### Test Data RMSE\n",
    "math.sqrt(mean_squared_error(ytest,test_predict))"
   ]
  },
  {
   "cell_type": "code",
   "execution_count": 36,
   "metadata": {
    "colab": {
     "base_uri": "https://localhost:8080/",
     "height": 266
    },
    "id": "M2yfwdRUQyjm",
    "outputId": "c0edadb2-1133-4d74-8841-8032ce408740"
   },
   "outputs": [
    {
     "data": {
      "image/png": "[encoded data removed]",
      "text/plain": [
       "<Figure size 432x288 with 1 Axes>"
      ]
     },
     "metadata": {
      "needs_background": "light"
     },
     "output_type": "display_data"
    }
   ],
   "source": [
    "### Plotting \n",
    "# shift train predictions for plotting\n",
    "look_back=100\n",
    "trainPredictPlot = numpy.empty_like(df1)\n",
    "trainPredictPlot[:, :] = np.nan\n",
    "trainPredictPlot[look_back:len(train_predict)+look_back, :] = train_predict\n",
    "# shift test predictions for plotting\n",
    "testPredictPlot = numpy.empty_like(df1)\n",
    "testPredictPlot[:, :] = numpy.nan\n",
    "testPredictPlot[len(train_predict)+(look_back*2)+1:len(df1)-1, :] = test_predict\n",
    "# plot baseline and predictions\n",
    "plt.plot(scaler.inverse_transform(df1))\n",
    "plt.plot(trainPredictPlot)\n",
    "plt.plot(testPredictPlot)\n",
    "plt.show()"
   ]
  }
 ],
 "metadata": {
  "colab": {
   "name": "LeepDearning.ipynb",
   "provenance": []
  },
  "kernelspec": {
   "display_name": "Python 3",
   "language": "python",
   "name": "python3"
  },
  "language_info": {
   "codemirror_mode": {
    "name": "ipython",
    "version": 3
   },
   "file_extension": ".py",
   "mimetype": "text/x-python",
   "name": "python",
   "nbconvert_exporter": "python",
   "pygments_lexer": "ipython3",
   "version": "3.7.7"
  }
 },
 "nbformat": 4,
 "nbformat_minor": 1
}
